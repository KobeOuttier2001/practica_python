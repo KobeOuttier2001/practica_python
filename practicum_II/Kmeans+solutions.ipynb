{
  "cells": [
    {
      "cell_type": "markdown",
      "metadata": {
        "id": "view-in-github",
        "colab_type": "text"
      },
      "source": [
        "<a href=\"https://colab.research.google.com/github/KobeOuttier2001/practica_python/blob/main/practicum_II/Kmeans%2Bsolutions.ipynb\" target=\"_parent\"><img src=\"https://colab.research.google.com/assets/colab-badge.svg\" alt=\"Open In Colab\"/></a>"
      ]
    },
    {
      "cell_type": "code",
      "execution_count": 1,
      "metadata": {
        "id": "h5brdNKDu3El"
      },
      "outputs": [],
      "source": [
        "%matplotlib inline\n",
        "import matplotlib.pyplot as plt\n",
        "import seaborn as sns\n",
        "import pandas as pd\n",
        "import numpy as np\n",
        "\n",
        "import warnings;\n",
        "warnings.filterwarnings('ignore');"
      ]
    },
    {
      "cell_type": "markdown",
      "metadata": {
        "id": "MQaWGBN_u3Ep"
      },
      "source": [
        "## K-means clustering of the MNIST dataset\n",
        "\n",
        "This project applies the k-means clustering algorithm to cluster written digits.\n",
        "\n",
        "The [MNIST](http://yann.lecun.com/exdb/mnist/) dataset is a large database of handwritten digits. We will analyse a subset of this database with digit images reduced to 8x8 grayscaled valued pixels.  \n",
        "\n",
        "It is a very well known dataset in the machine learing community and can be loaded directly from Scikit-learn:"
      ]
    },
    {
      "cell_type": "code",
      "execution_count": 3,
      "metadata": {
        "id": "JXx63rFpu3Es",
        "outputId": "d6d712fc-cabb-4c64-875e-d7d85af2be80",
        "colab": {
          "base_uri": "https://localhost:8080/"
        }
      },
      "outputs": [
        {
          "output_type": "stream",
          "name": "stdout",
          "text": [
            ".. _digits_dataset:\n",
            "\n",
            "Optical recognition of handwritten digits dataset\n",
            "--------------------------------------------------\n",
            "\n",
            "**Data Set Characteristics:**\n",
            "\n",
            "    :Number of Instances: 1797\n",
            "    :Number of Attributes: 64\n",
            "    :Attribute Information: 8x8 image of integer pixels in the range 0..16.\n",
            "    :Missing Attribute Values: None\n",
            "    :Creator: E. Alpaydin (alpaydin '@' boun.edu.tr)\n",
            "    :Date: July; 1998\n",
            "\n",
            "This is a copy of the test set of the UCI ML hand-written digits datasets\n",
            "https://archive.ics.uci.edu/ml/datasets/Optical+Recognition+of+Handwritten+Digits\n",
            "\n",
            "The data set contains images of hand-written digits: 10 classes where\n",
            "each class refers to a digit.\n",
            "\n",
            "Preprocessing programs made available by NIST were used to extract\n",
            "normalized bitmaps of handwritten digits from a preprinted form. From a\n",
            "total of 43 people, 30 contributed to the training set and different 13\n",
            "to the test set. 32x32 bitmaps are divided into nonoverlapping blocks of\n",
            "4x4 and the number of on pixels are counted in each block. This generates\n",
            "an input matrix of 8x8 where each element is an integer in the range\n",
            "0..16. This reduces dimensionality and gives invariance to small\n",
            "distortions.\n",
            "\n",
            "For info on NIST preprocessing routines, see M. D. Garris, J. L. Blue, G.\n",
            "T. Candela, D. L. Dimmick, J. Geist, P. J. Grother, S. A. Janet, and C.\n",
            "L. Wilson, NIST Form-Based Handprint Recognition System, NISTIR 5469,\n",
            "1994.\n",
            "\n",
            ".. topic:: References\n",
            "\n",
            "  - C. Kaynak (1995) Methods of Combining Multiple Classifiers and Their\n",
            "    Applications to Handwritten Digit Recognition, MSc Thesis, Institute of\n",
            "    Graduate Studies in Science and Engineering, Bogazici University.\n",
            "  - E. Alpaydin, C. Kaynak (1998) Cascading Classifiers, Kybernetika.\n",
            "  - Ken Tang and Ponnuthurai N. Suganthan and Xi Yao and A. Kai Qin.\n",
            "    Linear dimensionalityreduction using relevance weighted LDA. School of\n",
            "    Electrical and Electronic Engineering Nanyang Technological University.\n",
            "    2005.\n",
            "  - Claudio Gentile. A New Approximate Maximal Margin Classification\n",
            "    Algorithm. NIPS. 2000.\n",
            "\n"
          ]
        }
      ],
      "source": [
        "from sklearn.datasets import load_digits\n",
        "\n",
        "digits = load_digits()\n",
        "\n",
        "print(digits.DESCR)"
      ]
    },
    {
      "cell_type": "markdown",
      "metadata": {
        "id": "LRK_kYH8u3Eu"
      },
      "source": [
        "In `digits`, `data` contains the pixel feature vectors and `target` contains the labels.\n",
        "\n",
        "We assign the feature vectors to `X` and the target to `y`: "
      ]
    },
    {
      "cell_type": "code",
      "execution_count": 4,
      "metadata": {
        "id": "TrCfvXamu3Ew"
      },
      "outputs": [],
      "source": [
        "X = digits.data\n",
        "y = digits.target"
      ]
    },
    {
      "cell_type": "markdown",
      "metadata": {
        "id": "PyObFPpYu3Ex"
      },
      "source": [
        "Print the number of rows and columns in `X` and `y`:"
      ]
    },
    {
      "cell_type": "code",
      "execution_count": 5,
      "metadata": {
        "id": "d3zs9GXIu3Ey",
        "outputId": "605931b0-3080-40e7-dac8-c9c2201cfa0c",
        "colab": {
          "base_uri": "https://localhost:8080/"
        }
      },
      "outputs": [
        {
          "output_type": "stream",
          "name": "stdout",
          "text": [
            "(1797, 64)\n",
            "(1797,)\n"
          ]
        }
      ],
      "source": [
        "#Start code here\n",
        "\n",
        "print(X.shape)\n",
        "print(y.shape)\n",
        "\n",
        "#End code here"
      ]
    },
    {
      "cell_type": "markdown",
      "metadata": {
        "id": "m8rswl5Zu3Ez"
      },
      "source": [
        "The following code shows a random datapoint:"
      ]
    },
    {
      "cell_type": "code",
      "execution_count": null,
      "metadata": {
        "id": "naOKNUYiu3E0",
        "outputId": "448fb0fc-697a-49b0-aacb-448a97e55188"
      },
      "outputs": [
        {
          "data": {
            "image/png": "[encoded data removed]",
            "text/plain": [
              "<Figure size 640x480 with 1 Axes>"
            ]
          },
          "metadata": {},
          "output_type": "display_data"
        }
      ],
      "source": [
        "import random\n",
        "\n",
        "plt.grid(b=None)\n",
        "idx = random.randint(0,X.shape[0]-1)\n",
        "plt.imshow(X[idx].reshape(8,8),cmap=plt.cm.gray_r)\n",
        "plt.title(\"label = %i\"%y[idx])\n",
        "plt.show()"
      ]
    },
    {
      "cell_type": "markdown",
      "metadata": {
        "id": "WgsIQ3iIu3E4"
      },
      "source": [
        "The `KMeans` function in Scikit-learn has the following parameters:"
      ]
    },
    {
      "cell_type": "code",
      "execution_count": 6,
      "metadata": {
        "id": "mUJQ8cuuu3E6",
        "outputId": "9a663218-ff4a-471a-d05c-1b162cfd00b5",
        "colab": {
          "base_uri": "https://localhost:8080/"
        }
      },
      "outputs": [
        {
          "output_type": "stream",
          "name": "stdout",
          "text": [
            "Help on class KMeans in module sklearn.cluster._kmeans:\n",
            "\n",
            "class KMeans(sklearn.base.TransformerMixin, sklearn.base.ClusterMixin, sklearn.base.BaseEstimator)\n",
            " |  KMeans(n_clusters=8, *, init='k-means++', n_init=10, max_iter=300, tol=0.0001, verbose=0, random_state=None, copy_x=True, algorithm='auto')\n",
            " |  \n",
            " |  K-Means clustering.\n",
            " |  \n",
            " |  Read more in the :ref:`User Guide <k_means>`.\n",
            " |  \n",
            " |  Parameters\n",
            " |  ----------\n",
            " |  \n",
            " |  n_clusters : int, default=8\n",
            " |      The number of clusters to form as well as the number of\n",
            " |      centroids to generate.\n",
            " |  \n",
            " |  init : {'k-means++', 'random'}, callable or array-like of shape             (n_clusters, n_features), default='k-means++'\n",
            " |      Method for initialization:\n",
            " |  \n",
            " |      'k-means++' : selects initial cluster centers for k-mean\n",
            " |      clustering in a smart way to speed up convergence. See section\n",
            " |      Notes in k_init for more details.\n",
            " |  \n",
            " |      'random': choose `n_clusters` observations (rows) at random from data\n",
            " |      for the initial centroids.\n",
            " |  \n",
            " |      If an array is passed, it should be of shape (n_clusters, n_features)\n",
            " |      and gives the initial centers.\n",
            " |  \n",
            " |      If a callable is passed, it should take arguments X, n_clusters and a\n",
            " |      random state and return an initialization.\n",
            " |  \n",
            " |  n_init : int, default=10\n",
            " |      Number of time the k-means algorithm will be run with different\n",
            " |      centroid seeds. The final results will be the best output of\n",
            " |      n_init consecutive runs in terms of inertia.\n",
            " |  \n",
            " |  max_iter : int, default=300\n",
            " |      Maximum number of iterations of the k-means algorithm for a\n",
            " |      single run.\n",
            " |  \n",
            " |  tol : float, default=1e-4\n",
            " |      Relative tolerance with regards to Frobenius norm of the difference\n",
            " |      in the cluster centers of two consecutive iterations to declare\n",
            " |      convergence.\n",
            " |  \n",
            " |  verbose : int, default=0\n",
            " |      Verbosity mode.\n",
            " |  \n",
            " |  random_state : int, RandomState instance or None, default=None\n",
            " |      Determines random number generation for centroid initialization. Use\n",
            " |      an int to make the randomness deterministic.\n",
            " |      See :term:`Glossary <random_state>`.\n",
            " |  \n",
            " |  copy_x : bool, default=True\n",
            " |      When pre-computing distances it is more numerically accurate to center\n",
            " |      the data first. If copy_x is True (default), then the original data is\n",
            " |      not modified. If False, the original data is modified, and put back\n",
            " |      before the function returns, but small numerical differences may be\n",
            " |      introduced by subtracting and then adding the data mean. Note that if\n",
            " |      the original data is not C-contiguous, a copy will be made even if\n",
            " |      copy_x is False. If the original data is sparse, but not in CSR format,\n",
            " |      a copy will be made even if copy_x is False.\n",
            " |  \n",
            " |  algorithm : {\"auto\", \"full\", \"elkan\"}, default=\"auto\"\n",
            " |      K-means algorithm to use. The classical EM-style algorithm is \"full\".\n",
            " |      The \"elkan\" variation is more efficient on data with well-defined\n",
            " |      clusters, by using the triangle inequality. However it's more memory\n",
            " |      intensive due to the allocation of an extra array of shape\n",
            " |      (n_samples, n_clusters).\n",
            " |  \n",
            " |      For now \"auto\" (kept for backward compatibility) chooses \"elkan\" but it\n",
            " |      might change in the future for a better heuristic.\n",
            " |  \n",
            " |      .. versionchanged:: 0.18\n",
            " |          Added Elkan algorithm\n",
            " |  \n",
            " |  Attributes\n",
            " |  ----------\n",
            " |  cluster_centers_ : ndarray of shape (n_clusters, n_features)\n",
            " |      Coordinates of cluster centers. If the algorithm stops before fully\n",
            " |      converging (see ``tol`` and ``max_iter``), these will not be\n",
            " |      consistent with ``labels_``.\n",
            " |  \n",
            " |  labels_ : ndarray of shape (n_samples,)\n",
            " |      Labels of each point\n",
            " |  \n",
            " |  inertia_ : float\n",
            " |      Sum of squared distances of samples to their closest cluster center,\n",
            " |      weighted by the sample weights if provided.\n",
            " |  \n",
            " |  n_iter_ : int\n",
            " |      Number of iterations run.\n",
            " |  \n",
            " |  n_features_in_ : int\n",
            " |      Number of features seen during :term:`fit`.\n",
            " |  \n",
            " |      .. versionadded:: 0.24\n",
            " |  \n",
            " |  feature_names_in_ : ndarray of shape (`n_features_in_`,)\n",
            " |      Names of features seen during :term:`fit`. Defined only when `X`\n",
            " |      has feature names that are all strings.\n",
            " |  \n",
            " |      .. versionadded:: 1.0\n",
            " |  \n",
            " |  See Also\n",
            " |  --------\n",
            " |  MiniBatchKMeans : Alternative online implementation that does incremental\n",
            " |      updates of the centers positions using mini-batches.\n",
            " |      For large scale learning (say n_samples > 10k) MiniBatchKMeans is\n",
            " |      probably much faster than the default batch implementation.\n",
            " |  \n",
            " |  Notes\n",
            " |  -----\n",
            " |  The k-means problem is solved using either Lloyd's or Elkan's algorithm.\n",
            " |  \n",
            " |  The average complexity is given by O(k n T), where n is the number of\n",
            " |  samples and T is the number of iteration.\n",
            " |  \n",
            " |  The worst case complexity is given by O(n^(k+2/p)) with\n",
            " |  n = n_samples, p = n_features. (D. Arthur and S. Vassilvitskii,\n",
            " |  'How slow is the k-means method?' SoCG2006)\n",
            " |  \n",
            " |  In practice, the k-means algorithm is very fast (one of the fastest\n",
            " |  clustering algorithms available), but it falls in local minima. That's why\n",
            " |  it can be useful to restart it several times.\n",
            " |  \n",
            " |  If the algorithm stops before fully converging (because of ``tol`` or\n",
            " |  ``max_iter``), ``labels_`` and ``cluster_centers_`` will not be consistent,\n",
            " |  i.e. the ``cluster_centers_`` will not be the means of the points in each\n",
            " |  cluster. Also, the estimator will reassign ``labels_`` after the last\n",
            " |  iteration to make ``labels_`` consistent with ``predict`` on the training\n",
            " |  set.\n",
            " |  \n",
            " |  Examples\n",
            " |  --------\n",
            " |  \n",
            " |  >>> from sklearn.cluster import KMeans\n",
            " |  >>> import numpy as np\n",
            " |  >>> X = np.array([[1, 2], [1, 4], [1, 0],\n",
            " |  ...               [10, 2], [10, 4], [10, 0]])\n",
            " |  >>> kmeans = KMeans(n_clusters=2, random_state=0).fit(X)\n",
            " |  >>> kmeans.labels_\n",
            " |  array([1, 1, 1, 0, 0, 0], dtype=int32)\n",
            " |  >>> kmeans.predict([[0, 0], [12, 3]])\n",
            " |  array([1, 0], dtype=int32)\n",
            " |  >>> kmeans.cluster_centers_\n",
            " |  array([[10.,  2.],\n",
            " |         [ 1.,  2.]])\n",
            " |  \n",
            " |  Method resolution order:\n",
            " |      KMeans\n",
            " |      sklearn.base.TransformerMixin\n",
            " |      sklearn.base.ClusterMixin\n",
            " |      sklearn.base.BaseEstimator\n",
            " |      builtins.object\n",
            " |  \n",
            " |  Methods defined here:\n",
            " |  \n",
            " |  __init__(self, n_clusters=8, *, init='k-means++', n_init=10, max_iter=300, tol=0.0001, verbose=0, random_state=None, copy_x=True, algorithm='auto')\n",
            " |      Initialize self.  See help(type(self)) for accurate signature.\n",
            " |  \n",
            " |  fit(self, X, y=None, sample_weight=None)\n",
            " |      Compute k-means clustering.\n",
            " |      \n",
            " |      Parameters\n",
            " |      ----------\n",
            " |      X : {array-like, sparse matrix} of shape (n_samples, n_features)\n",
            " |          Training instances to cluster. It must be noted that the data\n",
            " |          will be converted to C ordering, which will cause a memory\n",
            " |          copy if the given data is not C-contiguous.\n",
            " |          If a sparse matrix is passed, a copy will be made if it's not in\n",
            " |          CSR format.\n",
            " |      \n",
            " |      y : Ignored\n",
            " |          Not used, present here for API consistency by convention.\n",
            " |      \n",
            " |      sample_weight : array-like of shape (n_samples,), default=None\n",
            " |          The weights for each observation in X. If None, all observations\n",
            " |          are assigned equal weight.\n",
            " |      \n",
            " |          .. versionadded:: 0.20\n",
            " |      \n",
            " |      Returns\n",
            " |      -------\n",
            " |      self : object\n",
            " |          Fitted estimator.\n",
            " |  \n",
            " |  fit_predict(self, X, y=None, sample_weight=None)\n",
            " |      Compute cluster centers and predict cluster index for each sample.\n",
            " |      \n",
            " |      Convenience method; equivalent to calling fit(X) followed by\n",
            " |      predict(X).\n",
            " |      \n",
            " |      Parameters\n",
            " |      ----------\n",
            " |      X : {array-like, sparse matrix} of shape (n_samples, n_features)\n",
            " |          New data to transform.\n",
            " |      \n",
            " |      y : Ignored\n",
            " |          Not used, present here for API consistency by convention.\n",
            " |      \n",
            " |      sample_weight : array-like of shape (n_samples,), default=None\n",
            " |          The weights for each observation in X. If None, all observations\n",
            " |          are assigned equal weight.\n",
            " |      \n",
            " |      Returns\n",
            " |      -------\n",
            " |      labels : ndarray of shape (n_samples,)\n",
            " |          Index of the cluster each sample belongs to.\n",
            " |  \n",
            " |  fit_transform(self, X, y=None, sample_weight=None)\n",
            " |      Compute clustering and transform X to cluster-distance space.\n",
            " |      \n",
            " |      Equivalent to fit(X).transform(X), but more efficiently implemented.\n",
            " |      \n",
            " |      Parameters\n",
            " |      ----------\n",
            " |      X : {array-like, sparse matrix} of shape (n_samples, n_features)\n",
            " |          New data to transform.\n",
            " |      \n",
            " |      y : Ignored\n",
            " |          Not used, present here for API consistency by convention.\n",
            " |      \n",
            " |      sample_weight : array-like of shape (n_samples,), default=None\n",
            " |          The weights for each observation in X. If None, all observations\n",
            " |          are assigned equal weight.\n",
            " |      \n",
            " |      Returns\n",
            " |      -------\n",
            " |      X_new : ndarray of shape (n_samples, n_clusters)\n",
            " |          X transformed in the new space.\n",
            " |  \n",
            " |  predict(self, X, sample_weight=None)\n",
            " |      Predict the closest cluster each sample in X belongs to.\n",
            " |      \n",
            " |      In the vector quantization literature, `cluster_centers_` is called\n",
            " |      the code book and each value returned by `predict` is the index of\n",
            " |      the closest code in the code book.\n",
            " |      \n",
            " |      Parameters\n",
            " |      ----------\n",
            " |      X : {array-like, sparse matrix} of shape (n_samples, n_features)\n",
            " |          New data to predict.\n",
            " |      \n",
            " |      sample_weight : array-like of shape (n_samples,), default=None\n",
            " |          The weights for each observation in X. If None, all observations\n",
            " |          are assigned equal weight.\n",
            " |      \n",
            " |      Returns\n",
            " |      -------\n",
            " |      labels : ndarray of shape (n_samples,)\n",
            " |          Index of the cluster each sample belongs to.\n",
            " |  \n",
            " |  score(self, X, y=None, sample_weight=None)\n",
            " |      Opposite of the value of X on the K-means objective.\n",
            " |      \n",
            " |      Parameters\n",
            " |      ----------\n",
            " |      X : {array-like, sparse matrix} of shape (n_samples, n_features)\n",
            " |          New data.\n",
            " |      \n",
            " |      y : Ignored\n",
            " |          Not used, present here for API consistency by convention.\n",
            " |      \n",
            " |      sample_weight : array-like of shape (n_samples,), default=None\n",
            " |          The weights for each observation in X. If None, all observations\n",
            " |          are assigned equal weight.\n",
            " |      \n",
            " |      Returns\n",
            " |      -------\n",
            " |      score : float\n",
            " |          Opposite of the value of X on the K-means objective.\n",
            " |  \n",
            " |  transform(self, X)\n",
            " |      Transform X to a cluster-distance space.\n",
            " |      \n",
            " |      In the new space, each dimension is the distance to the cluster\n",
            " |      centers. Note that even if X is sparse, the array returned by\n",
            " |      `transform` will typically be dense.\n",
            " |      \n",
            " |      Parameters\n",
            " |      ----------\n",
            " |      X : {array-like, sparse matrix} of shape (n_samples, n_features)\n",
            " |          New data to transform.\n",
            " |      \n",
            " |      Returns\n",
            " |      -------\n",
            " |      X_new : ndarray of shape (n_samples, n_clusters)\n",
            " |          X transformed in the new space.\n",
            " |  \n",
            " |  ----------------------------------------------------------------------\n",
            " |  Data descriptors inherited from sklearn.base.TransformerMixin:\n",
            " |  \n",
            " |  __dict__\n",
            " |      dictionary for instance variables (if defined)\n",
            " |  \n",
            " |  __weakref__\n",
            " |      list of weak references to the object (if defined)\n",
            " |  \n",
            " |  ----------------------------------------------------------------------\n",
            " |  Methods inherited from sklearn.base.BaseEstimator:\n",
            " |  \n",
            " |  __getstate__(self)\n",
            " |  \n",
            " |  __repr__(self, N_CHAR_MAX=700)\n",
            " |      Return repr(self).\n",
            " |  \n",
            " |  __setstate__(self, state)\n",
            " |  \n",
            " |  get_params(self, deep=True)\n",
            " |      Get parameters for this estimator.\n",
            " |      \n",
            " |      Parameters\n",
            " |      ----------\n",
            " |      deep : bool, default=True\n",
            " |          If True, will return the parameters for this estimator and\n",
            " |          contained subobjects that are estimators.\n",
            " |      \n",
            " |      Returns\n",
            " |      -------\n",
            " |      params : dict\n",
            " |          Parameter names mapped to their values.\n",
            " |  \n",
            " |  set_params(self, **params)\n",
            " |      Set the parameters of this estimator.\n",
            " |      \n",
            " |      The method works on simple estimators as well as on nested objects\n",
            " |      (such as :class:`~sklearn.pipeline.Pipeline`). The latter have\n",
            " |      parameters of the form ``<component>__<parameter>`` so that it's\n",
            " |      possible to update each component of a nested object.\n",
            " |      \n",
            " |      Parameters\n",
            " |      ----------\n",
            " |      **params : dict\n",
            " |          Estimator parameters.\n",
            " |      \n",
            " |      Returns\n",
            " |      -------\n",
            " |      self : estimator instance\n",
            " |          Estimator instance.\n",
            "\n"
          ]
        }
      ],
      "source": [
        "from sklearn.cluster import KMeans\n",
        "\n",
        "help(KMeans)"
      ]
    },
    {
      "cell_type": "markdown",
      "metadata": {
        "id": "VJPlMbv2u3E8"
      },
      "source": [
        "The most important are `n_clusters` (the number of cluster centroids (K) that K-means should find) and `init` (the algorithm used to initialize the cluster centers). These parameters are called hyperparameters as they require optimization by the user. This in contrast to modelparameters that are optimized by the learning algorithm.\n",
        "\n",
        "Also notice hyperparameter `n_init` that sets the number of time the K-means algorithm will be run starting from different centroid seeds, with the final best result selected based on the inertia metric.\n",
        "\n",
        "Cluster the data into 10 groups with just one random cluster center initialization. Set `random_state` equal to zero:"
      ]
    },
    {
      "cell_type": "code",
      "execution_count": 7,
      "metadata": {
        "id": "Vp1Kc8k4u3E-",
        "outputId": "1e517aff-b2ab-4d77-99fe-94dcb19fd05c",
        "colab": {
          "base_uri": "https://localhost:8080/"
        }
      },
      "outputs": [
        {
          "output_type": "stream",
          "name": "stdout",
          "text": [
            "[7 1 1 ... 1 8 8]\n"
          ]
        }
      ],
      "source": [
        "#Start code here\n",
        "\n",
        "cls_kmns = KMeans(n_clusters=10, init=\"random\", n_init = 1, random_state=0)\n",
        "kmeans_result = cls_kmns.fit_predict(X)\n",
        "\n",
        "#End code here\n",
        "\n",
        "print(kmeans_result)"
      ]
    },
    {
      "cell_type": "markdown",
      "metadata": {
        "id": "82qZZkDVu3FA"
      },
      "source": [
        "On the help page of the Scikit-learn KMeans implementation there is a section \"Attirbutes\" that lists additional results computed during K-means clustering. For instance, `cluster_centers_` contains the 10 cluster centers computed by the K-means algorithm. \n",
        "\n",
        "What is the inertia for the obtained clusters?"
      ]
    },
    {
      "cell_type": "code",
      "execution_count": 8,
      "metadata": {
        "id": "YIey_QNfu3FB",
        "outputId": "2afeca45-41c7-4d61-b48f-c7dce57a763f",
        "colab": {
          "base_uri": "https://localhost:8080/"
        }
      },
      "outputs": [
        {
          "output_type": "stream",
          "name": "stdout",
          "text": [
            "1165142.0046186221\n"
          ]
        }
      ],
      "source": [
        "#Start code here\n",
        "\n",
        "print(cls_kmns.inertia_)\n",
        "\n",
        "#End code here"
      ]
    },
    {
      "cell_type": "markdown",
      "metadata": {
        "id": "URN9ZnAQu3FC"
      },
      "source": [
        "The following code plots the 10 cluster centers:"
      ]
    },
    {
      "cell_type": "code",
      "execution_count": 9,
      "metadata": {
        "id": "RQcmIZQju3FD",
        "outputId": "d19ae312-ea75-47af-ff43-96ecce340c80",
        "colab": {
          "base_uri": "https://localhost:8080/",
          "height": 197
        }
      },
      "outputs": [
        {
          "output_type": "display_data",
          "data": {
            "text/plain": [
              "<Figure size 576x216 with 10 Axes>"
            ],
            "image/png": "[encoded data removed]"
          },
          "metadata": {}
        }
      ],
      "source": [
        "fig, ax = plt.subplots(2, 5, figsize=(8, 3))\n",
        "for axi, center in zip(ax.flat, cls_kmns.cluster_centers_):\n",
        "    axi.set(xticks=[], yticks=[])\n",
        "    axi.imshow(center.reshape(8, 8), cmap=plt.cm.binary)"
      ]
    },
    {
      "cell_type": "markdown",
      "metadata": {
        "id": "u899zNCpu3FF"
      },
      "source": [
        "Create a Pandas DataFrame `label_compare` with two columns: `label_cluster` that contains the labels assigned by the K-means clustering and `label_true` that contains the true (observed) label for each datapoint in `X`: "
      ]
    },
    {
      "cell_type": "code",
      "execution_count": 10,
      "metadata": {
        "id": "1MJKwgNKu3FF",
        "outputId": "bc957d39-40d3-4cfa-f1c8-f50695a91f3e",
        "colab": {
          "base_uri": "https://localhost:8080/"
        }
      },
      "outputs": [
        {
          "output_type": "stream",
          "name": "stdout",
          "text": [
            "      label_cluster  label_true\n",
            "0                 7           0\n",
            "1                 1           1\n",
            "2                 1           2\n",
            "3                 0           3\n",
            "4                 4           4\n",
            "...             ...         ...\n",
            "1792              8           9\n",
            "1793              7           0\n",
            "1794              1           8\n",
            "1795              8           9\n",
            "1796              8           8\n",
            "\n",
            "[1797 rows x 2 columns]\n"
          ]
        }
      ],
      "source": [
        "#Start code here\n",
        "\n",
        "label_compare = pd.DataFrame({'label_cluster': kmeans_result, 'label_true':y})\n",
        "\n",
        "#End code here\n",
        "\n",
        "print(label_compare)"
      ]
    },
    {
      "cell_type": "markdown",
      "metadata": {
        "id": "KydBd_3Vu3FG"
      },
      "source": [
        "Create a Pandas DataFrame `tmp` that contains all the rows in `label_compare` that were assigned to cluster center 0:"
      ]
    },
    {
      "cell_type": "code",
      "execution_count": 12,
      "metadata": {
        "id": "armTPnvwu3FH"
      },
      "outputs": [],
      "source": [
        "#Start code here\n",
        "\n",
        "tmp = label_compare.loc[label_compare.label_cluster==0,:]\n",
        "\n",
        "#End code here"
      ]
    },
    {
      "cell_type": "markdown",
      "metadata": {
        "id": "7gFpJcixu3FV"
      },
      "source": [
        "Print the first 20 rows in `tmp`:"
      ]
    },
    {
      "cell_type": "code",
      "execution_count": 13,
      "metadata": {
        "id": "2yVEi599u3FW",
        "outputId": "84e58263-9b1c-4f8b-9fc2-f0a323e3ea1c",
        "colab": {
          "base_uri": "https://localhost:8080/"
        }
      },
      "outputs": [
        {
          "output_type": "stream",
          "name": "stdout",
          "text": [
            "     label_cluster  label_true\n",
            "3                0           3\n",
            "13               0           3\n",
            "23               0           3\n",
            "45               0           3\n",
            "59               0           3\n",
            "60               0           3\n",
            "62               0           3\n",
            "63               0           3\n",
            "83               0           3\n",
            "89               0           3\n",
            "91               0           3\n",
            "92               0           9\n",
            "98               0           3\n",
            "133              0           3\n",
            "143              0           3\n",
            "153              0           3\n",
            "161              0           9\n",
            "175              0           3\n",
            "189              0           3\n",
            "190              0           3\n"
          ]
        }
      ],
      "source": [
        "#Start code here\n",
        "\n",
        "print(tmp.head(20))\n",
        "\n",
        "#End code here"
      ]
    },
    {
      "cell_type": "markdown",
      "metadata": {
        "id": "yx5RoqYLu3FW"
      },
      "source": [
        "It should be clear that the labels assigned by K-means do not correspond to the true labels of the majority of the images in a cluster (i.e. the mode of the true labels in each cluster).\n",
        "\n",
        "A Pandas Series has the function `mode()` to compute the mode of the values in a Series. Print the mode of the column `label_true` in `tmp`: "
      ]
    },
    {
      "cell_type": "code",
      "execution_count": 14,
      "metadata": {
        "id": "mcgY5EP7u3FX",
        "outputId": "8371fe3a-06ac-4a46-8923-5602b4bd6488",
        "colab": {
          "base_uri": "https://localhost:8080/"
        }
      },
      "outputs": [
        {
          "output_type": "stream",
          "name": "stdout",
          "text": [
            "3\n"
          ]
        }
      ],
      "source": [
        "#Start code here\n",
        "\n",
        "print(tmp['label_true'].mode()[0])\n",
        "\n",
        "#End code here"
      ]
    },
    {
      "cell_type": "markdown",
      "metadata": {
        "id": "_TfK2WyTu3FY"
      },
      "source": [
        "Compute the mode for each cluster in `label_compare` and add these modes to the Python list `label_mapper`:"
      ]
    },
    {
      "cell_type": "code",
      "execution_count": 15,
      "metadata": {
        "id": "6W3U8op5u3FY",
        "outputId": "5e85cb93-b095-4654-d0a3-3aa65a557898",
        "colab": {
          "base_uri": "https://localhost:8080/"
        }
      },
      "outputs": [
        {
          "output_type": "stream",
          "name": "stdout",
          "text": [
            "Mode for cluster labeled 0 = 3\n",
            "Mode for cluster labeled 1 = 8\n",
            "Mode for cluster labeled 2 = 2\n",
            "Mode for cluster labeled 3 = 6\n",
            "Mode for cluster labeled 4 = 4\n",
            "Mode for cluster labeled 5 = 7\n",
            "Mode for cluster labeled 6 = 1\n",
            "Mode for cluster labeled 7 = 0\n",
            "Mode for cluster labeled 8 = 9\n",
            "Mode for cluster labeled 9 = 5\n"
          ]
        }
      ],
      "source": [
        "label_mapper = []\n",
        "\n",
        "for label_cluster in range(0,10):\n",
        "    #Start code here\n",
        "\n",
        "    tmp = label_compare.loc[label_compare.label_cluster==label_cluster,:]\n",
        "    label_mapper.append(tmp['label_true'].mode()[0])\n",
        "    \n",
        "    #End code here\n",
        "    \n",
        "for label_cluster in range(0,10):\n",
        "    print(\"Mode for cluster labeled {} = {}\".format(label_cluster,label_mapper[label_cluster]))"
      ]
    },
    {
      "cell_type": "markdown",
      "metadata": {
        "id": "J2QNPP64u3Fa"
      },
      "source": [
        "Use the `map()` function to add a column `label_mode` to `label_compare` that contains the mode for each cluster label in `label_cluster`:"
      ]
    },
    {
      "cell_type": "code",
      "execution_count": 16,
      "metadata": {
        "id": "ofArAhyTu3Fa",
        "outputId": "2b863fec-e74f-43af-9ca4-bd885bc7ab46",
        "colab": {
          "base_uri": "https://localhost:8080/"
        }
      },
      "outputs": [
        {
          "output_type": "stream",
          "name": "stdout",
          "text": [
            "      label_cluster  label_true  label_mode\n",
            "0                 7           0           0\n",
            "1                 1           1           8\n",
            "2                 1           2           8\n",
            "3                 0           3           3\n",
            "4                 4           4           4\n",
            "...             ...         ...         ...\n",
            "1792              8           9           9\n",
            "1793              7           0           0\n",
            "1794              1           8           8\n",
            "1795              8           9           9\n",
            "1796              8           8           9\n",
            "\n",
            "[1797 rows x 3 columns]\n"
          ]
        }
      ],
      "source": [
        "#Start code here\n",
        "\n",
        "label_compare[\"label_mode\"] = label_compare[\"label_cluster\"].map(lambda x: label_mapper[x])\n",
        "\n",
        "#End code here\n",
        "\n",
        "print(label_compare)"
      ]
    },
    {
      "cell_type": "markdown",
      "metadata": {
        "id": "8K72diZbu3Fb"
      },
      "source": [
        "Finally, we can compare the mode of the labels in each cluster with the true labels of the datapoints.\n",
        "\n",
        "Print the accuracy of the K-means label modes (that can be seen as the class predictions computed by K-means):"
      ]
    },
    {
      "cell_type": "code",
      "execution_count": 17,
      "metadata": {
        "id": "C-nDnuDsu3Fb",
        "outputId": "0ecdffa7-8973-45f0-b569-487a0adb4c17",
        "colab": {
          "base_uri": "https://localhost:8080/"
        }
      },
      "outputs": [
        {
          "output_type": "stream",
          "name": "stdout",
          "text": [
            "0.7924318308291597\n"
          ]
        }
      ],
      "source": [
        "from sklearn.metrics import accuracy_score\n",
        "\n",
        "#Start code here\n",
        "\n",
        "print(accuracy_score(label_compare[\"label_true\"],label_compare[\"label_mode\"]))\n",
        "\n",
        "#End code here"
      ]
    },
    {
      "cell_type": "markdown",
      "metadata": {
        "id": "3TcfmA6Su3Fc"
      },
      "source": [
        "Evaluate the K-means predictions using a confusion matrix:"
      ]
    },
    {
      "cell_type": "code",
      "execution_count": 18,
      "metadata": {
        "id": "G2uVo2p8u3Fc",
        "outputId": "34a5cdce-0471-4d41-90d9-5eaefbfbc22d",
        "colab": {
          "base_uri": "https://localhost:8080/",
          "height": 296
        }
      },
      "outputs": [
        {
          "output_type": "execute_result",
          "data": {
            "text/plain": [
              "Text(91.68, 0.5, 'predicted label')"
            ]
          },
          "metadata": {},
          "execution_count": 18
        },
        {
          "output_type": "display_data",
          "data": {
            "text/plain": [
              "<Figure size 432x288 with 1 Axes>"
            ],
            "image/png": "[encoded data removed]"
          },
          "metadata": {
            "needs_background": "light"
          }
        }
      ],
      "source": [
        "from sklearn.metrics import confusion_matrix\n",
        "\n",
        "#Start code here\n",
        "\n",
        "mat = confusion_matrix(label_compare[\"label_true\"],label_compare[\"label_mode\"])\n",
        "sns.heatmap(mat.T, square=True, annot=True, fmt='d', cbar=False,\n",
        "            xticklabels=digits.target_names,\n",
        "            yticklabels=digits.target_names)\n",
        "plt.xlabel('true label')\n",
        "plt.ylabel('predicted label')\n",
        "\n",
        "#End code here"
      ]
    },
    {
      "cell_type": "markdown",
      "metadata": {
        "id": "gRCkHtHZu3Fd"
      },
      "source": [
        "For what digit do the K-means clusters make the most mistakes?\n",
        "\n",
        "Apply K-means clustering again, but first normalize the feature vectors using `StandardScaler()` (write the normalized feature vectors to `X_norm`). What is the accuracy of the K-means predictions now?"
      ]
    },
    {
      "cell_type": "code",
      "execution_count": 19,
      "metadata": {
        "id": "hmFK1BlBu3Fe",
        "outputId": "0a42211e-33e8-4927-c632-91aa6f6e1143",
        "colab": {
          "base_uri": "https://localhost:8080/"
        }
      },
      "outputs": [
        {
          "output_type": "stream",
          "name": "stdout",
          "text": [
            "0.6994991652754591\n"
          ]
        }
      ],
      "source": [
        "from sklearn.preprocessing import StandardScaler\n",
        "\n",
        "#Start code here\n",
        "\n",
        "X_norm = StandardScaler().fit_transform(X)\n",
        "\n",
        "kmeans_result = cls_kmns.fit_predict(X_norm)\n",
        "\n",
        "label_compare = pd.DataFrame({'label_cluster': kmeans_result, 'label_true':y})\n",
        "\n",
        "label_mapper = []\n",
        "for label_cluster in range(0,10):\n",
        "    tmp = label_compare.loc[label_compare.label_cluster==label_cluster,:]\n",
        "    label_mapper.append(tmp['label_true'].mode()[0])\n",
        "\n",
        "label_compare[\"label_mode\"] = label_compare[\"label_cluster\"].map(lambda x: label_mapper[x])\n",
        " \n",
        "print(accuracy_score(label_compare[\"label_true\"],label_compare[\"label_mode\"]))\n",
        "\n",
        "#End code here"
      ]
    },
    {
      "cell_type": "markdown",
      "metadata": {
        "id": "amIR6kimu3Ff"
      },
      "source": [
        "Use the TNSE module in Scikit-learn to project the 64 dimensional feature vectors in `X` to a 2-dimensional space. Set the `perplexity` hyperparemter to 30."
      ]
    },
    {
      "cell_type": "code",
      "execution_count": 20,
      "metadata": {
        "id": "ksW0Ns3fu3Ff",
        "outputId": "791af69d-f082-435e-b076-1e05a99d3c3e",
        "colab": {
          "base_uri": "https://localhost:8080/"
        }
      },
      "outputs": [
        {
          "output_type": "stream",
          "name": "stdout",
          "text": [
            "[[  4.6983986  69.70591  ]\n",
            " [ -6.8990483   1.1293634]\n",
            " [-14.457598  -19.70458  ]\n",
            " ...\n",
            " [  1.239091  -13.779359 ]\n",
            " [ 36.485516   -5.978172 ]\n",
            " [  8.237528  -16.978697 ]]\n"
          ]
        }
      ],
      "source": [
        "from sklearn.manifold import TSNE\n",
        "\n",
        "#Start code here\n",
        "\n",
        "prj_tsne = TSNE(n_components=2, perplexity=30)\n",
        "X_embedded = prj_tsne.fit_transform(X)\n",
        "\n",
        "#End code here\n",
        "\n",
        "print(X_embedded)"
      ]
    },
    {
      "cell_type": "markdown",
      "metadata": {
        "id": "3a8bsHuLu3Ff"
      },
      "source": [
        "Create a Pandas DataFrame `tsne_result` that contains the two columns in `X_embedded` with column names `t-SNE_1` and `t-SNE_2`:"
      ]
    },
    {
      "cell_type": "code",
      "execution_count": 21,
      "metadata": {
        "id": "tCQzGFv1u3Fg",
        "outputId": "d28eb9a0-bc7a-4971-d7d4-33574ebfdd54",
        "colab": {
          "base_uri": "https://localhost:8080/"
        }
      },
      "outputs": [
        {
          "output_type": "stream",
          "name": "stdout",
          "text": [
            "        t-SNE_1    t-SNE_2\n",
            "0      4.698399  69.705910\n",
            "1     -6.899048   1.129363\n",
            "2    -14.457598 -19.704580\n",
            "3     31.336514 -24.345434\n",
            "4     -9.875381  26.241419\n",
            "...         ...        ...\n",
            "1792  40.132504  -7.858186\n",
            "1793   0.166171  62.598171\n",
            "1794   1.239091 -13.779359\n",
            "1795  36.485516  -5.978172\n",
            "1796   8.237528 -16.978697\n",
            "\n",
            "[1797 rows x 2 columns]\n"
          ]
        }
      ],
      "source": [
        "#Start code here\n",
        "\n",
        "tsne_result = pd.DataFrame(X_embedded, columns=[\"t-SNE_1\",\"t-SNE_2\"])\n",
        "\n",
        "#End code here\n",
        "\n",
        "print(tsne_result)"
      ]
    },
    {
      "cell_type": "markdown",
      "metadata": {
        "id": "QGhvwpOsu3Fg"
      },
      "source": [
        "Add a column `label` to `tnse_result` that contains the true label `y`:"
      ]
    },
    {
      "cell_type": "code",
      "execution_count": 23,
      "metadata": {
        "id": "VUifqicTu3Fh",
        "outputId": "042aaaa1-f5ff-46d9-9066-2372a0f31967",
        "colab": {
          "base_uri": "https://localhost:8080/"
        }
      },
      "outputs": [
        {
          "output_type": "stream",
          "name": "stdout",
          "text": [
            "        t-SNE_1    t-SNE_2  label\n",
            "0      4.698399  69.705910      0\n",
            "1     -6.899048   1.129363      1\n",
            "2    -14.457598 -19.704580      2\n",
            "3     31.336514 -24.345434      3\n",
            "4     -9.875381  26.241419      4\n",
            "...         ...        ...    ...\n",
            "1792  40.132504  -7.858186      9\n",
            "1793   0.166171  62.598171      0\n",
            "1794   1.239091 -13.779359      8\n",
            "1795  36.485516  -5.978172      9\n",
            "1796   8.237528 -16.978697      8\n",
            "\n",
            "[1797 rows x 3 columns]\n"
          ]
        }
      ],
      "source": [
        "#Start code here\n",
        "\n",
        "tsne_result.label = y\n",
        "\n",
        "#End code here\n",
        "\n",
        "print(tsne_result)"
      ]
    },
    {
      "cell_type": "markdown",
      "metadata": {
        "id": "lOtl2l2Tu3Fi"
      },
      "source": [
        "To plot the t-SNE result we first convert the `label` column to a string (to understand why we do this, just run the notebook while skipping the following line of code):"
      ]
    },
    {
      "cell_type": "code",
      "execution_count": 33,
      "metadata": {
        "id": "s0MyAuhPu3Fi"
      },
      "outputs": [],
      "source": [
        "tsne_result[\"label\"] = tsne_result[\"label\"].astype(str) "
      ]
    },
    {
      "cell_type": "markdown",
      "metadata": {
        "id": "Lxy43ncDu3Fj"
      },
      "source": [
        "We can use the Python [Seaborn](https://seaborn.pydata.org/) library to plot the t-SNE result:"
      ]
    },
    {
      "cell_type": "code",
      "execution_count": 34,
      "metadata": {
        "id": "XYBpfk6vu3Fj",
        "outputId": "bf8950a9-00c7-467d-ded4-71396fe1e5b0",
        "colab": {
          "base_uri": "https://localhost:8080/",
          "height": 297
        }
      },
      "outputs": [
        {
          "output_type": "execute_result",
          "data": {
            "text/plain": [
              "<matplotlib.axes._subplots.AxesSubplot at 0x7fcbb2855fa0>"
            ]
          },
          "metadata": {},
          "execution_count": 34
        },
        {
          "output_type": "display_data",
          "data": {
            "text/plain": [
              "<Figure size 432x288 with 1 Axes>"
            ],
            "image/png": "[encoded data removed]"
          },
          "metadata": {
            "needs_background": "light"
          }
        }
      ],
      "source": [
        "import matplotlib.pyplot as plt\n",
        "import seaborn as sns\n",
        "\n",
        "sns.scatterplot(x=\"t-SNE_1\",y=\"t-SNE_2\",hue=\"label\",data=tsne_result)"
      ]
    },
    {
      "cell_type": "markdown",
      "metadata": {
        "id": "oggdD0cpu3Fk"
      },
      "source": [
        "Apply K-means clustering to `X_embedded` and again create a Pandas DataFrame `label_compare` with columns `label_true` that contains the true labels and `label_mode` that contains the K-means predicted labels:"
      ]
    },
    {
      "cell_type": "code",
      "execution_count": 35,
      "metadata": {
        "id": "_4awOhxru3Fk",
        "outputId": "3e2b5301-4b0d-4172-93e5-8ec90968761c",
        "colab": {
          "base_uri": "https://localhost:8080/"
        }
      },
      "outputs": [
        {
          "output_type": "stream",
          "name": "stdout",
          "text": [
            "      label_cluster  label_true  label_mode\n",
            "0                 9           0           0\n",
            "1                 1           1           8\n",
            "2                 1           2           8\n",
            "3                 8           3           3\n",
            "4                 6           4           4\n",
            "...             ...         ...         ...\n",
            "1792              8           9           3\n",
            "1793              9           0           0\n",
            "1794              1           8           8\n",
            "1795              8           9           3\n",
            "1796              1           8           8\n",
            "\n",
            "[1797 rows x 3 columns]\n"
          ]
        }
      ],
      "source": [
        "#Start code here\n",
        "\n",
        "kmeans_result = cls_kmns.fit_predict(X_embedded)\n",
        "\n",
        "label_compare = pd.DataFrame({'label_cluster': kmeans_result, 'label_true':y})\n",
        "\n",
        "label_mapper = []\n",
        "for label_cluster in range(0,10):\n",
        "    tmp = label_compare.loc[label_compare.label_cluster==label_cluster,:]\n",
        "    label_mapper.append(tmp['label_true'].mode()[0])\n",
        "\n",
        "label_compare[\"label_mode\"] = label_compare[\"label_cluster\"].map(lambda x: label_mapper[x])\n",
        " \n",
        "#End code here\n",
        "\n",
        "print(label_compare)"
      ]
    },
    {
      "cell_type": "markdown",
      "metadata": {
        "id": "CSTxwBfeu3Fl"
      },
      "source": [
        "What is the accuracy of the K-means label predictions now? "
      ]
    },
    {
      "cell_type": "code",
      "execution_count": 36,
      "metadata": {
        "id": "Ffy2hX4Du3Fm",
        "outputId": "b9206b74-367f-4cae-c0f7-8e7f7a48409f",
        "colab": {
          "base_uri": "https://localhost:8080/"
        }
      },
      "outputs": [
        {
          "output_type": "stream",
          "name": "stdout",
          "text": [
            "0.80189204229271\n"
          ]
        }
      ],
      "source": [
        "#Start code here\n",
        "\n",
        "print(accuracy_score(label_compare[\"label_true\"],label_compare[\"label_mode\"]))\n",
        "\n",
        "#End code here"
      ]
    }
  ],
  "metadata": {
    "kernelspec": {
      "display_name": "Python 3 (ipykernel)",
      "language": "python",
      "name": "python3"
    },
    "language_info": {
      "codemirror_mode": {
        "name": "ipython",
        "version": 3
      },
      "file_extension": ".py",
      "mimetype": "text/x-python",
      "name": "python",
      "nbconvert_exporter": "python",
      "pygments_lexer": "ipython3",
      "version": "3.9.13"
    },
    "colab": {
      "provenance": [],
      "include_colab_link": true
    }
  },
  "nbformat": 4,
  "nbformat_minor": 0
}